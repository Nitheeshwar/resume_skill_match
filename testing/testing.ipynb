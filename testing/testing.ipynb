{
 "cells": [
  {
   "cell_type": "code",
   "execution_count": null,
   "id": "7668d86c",
   "metadata": {},
   "outputs": [],
   "source": [
    "from PyPDF2 import PdfReader\n",
    "\n",
    "def extract_resume_text(path):\n",
    "    reader = PdfReader(path)\n",
    "    return \" \".join(page.extract_text() for page in reader.pages)"
   ]
  },
  {
   "cell_type": "code",
   "execution_count": null,
   "id": "eacad6b9",
   "metadata": {},
   "outputs": [],
   "source": [
    "from bs4 import BeautifulSoup\n",
    "\n",
    "def extract_text_from_html(html):\n",
    "    soup = BeautifulSoup(html, \"html.parser\")\n",
    "    return soup.get_text()\n"
   ]
  },
  {
   "cell_type": "code",
   "execution_count": null,
   "id": "33f5e81e",
   "metadata": {},
   "outputs": [],
   "source": []
  }
 ],
 "metadata": {
  "kernelspec": {
   "display_name": "resume_match",
   "language": "python",
   "name": "python3"
  },
  "language_info": {
   "name": "python",
   "version": "3.13.2"
  }
 },
 "nbformat": 4,
 "nbformat_minor": 5
}
